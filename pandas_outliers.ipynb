{
 "cells": [
  {
   "cell_type": "code",
   "execution_count": 1,
   "metadata": {},
   "outputs": [
    {
     "name": "stdout",
     "output_type": "stream",
     "text": [
      "This is the famous Galton Height Data collection set of adult heights and their parents heights from 1850's\n",
      "  family  father  mother sex  height  nkids\n",
      "0      1    78.5    67.0   M    73.2      4\n",
      "1      1    78.5    67.0   F    69.2      4\n",
      "2      1    78.5    67.0   F    69.0      4\n",
      "3      1    78.5    67.0   F    69.0      4\n"
     ]
    }
   ],
   "source": [
    "import matplotlib.pyplot as plt\n",
    "import numpy as np\n",
    "import scipy.stats as stats\n",
    "import pandas as pd\n",
    "\n",
    "df = pd.read_csv(\"http://www.mosaic-web.org/go/datasets/galton.csv\")\n",
    "print('This is the famous Galton Height Data collection set of adult heights and their parents heights from 1850\\'s')\n",
    "print(df.head(4))\n"
   ]
  },
  {
   "cell_type": "code",
   "execution_count": 2,
   "metadata": {},
   "outputs": [
    {
     "name": "stdout",
     "output_type": "stream",
     "text": [
      "           father      mother      height       nkids\n",
      "count  898.000000  898.000000  898.000000  898.000000\n",
      "mean    69.232851   64.084410   66.760690    6.135857\n",
      "std      2.470256    2.307025    3.582918    2.685156\n",
      "min     62.000000   58.000000   56.000000    1.000000\n",
      "25%     68.000000   63.000000   64.000000    4.000000\n",
      "50%     69.000000   64.000000   66.500000    6.000000\n",
      "75%     71.000000   65.500000   69.700000    8.000000\n",
      "max     78.500000   70.500000   79.000000   15.000000 \n",
      "\n",
      "count    898.000000\n",
      "mean      66.760690\n",
      "std        3.582918\n",
      "min       56.000000\n",
      "25%       64.000000\n",
      "50%       66.500000\n",
      "75%       69.700000\n",
      "max       79.000000\n",
      "Name: height, dtype: float64\n"
     ]
    }
   ],
   "source": [
    "print(df.describe(), \"\\n\")\n",
    "print(df.describe()['height']) #note df.describe() returns a data frame, can access columns individually by name\n"
   ]
  },
  {
   "cell_type": "code",
   "execution_count": 3,
   "metadata": {},
   "outputs": [],
   "source": [
    "# lets look at the percentiles \n",
    "num_records = len(df)\n",
    "mu = df.height.mean()\n",
    "sigma = df.height.std()\n",
    "q1, q3 = np.percentile(df.height, [25, 75]) # get the values where 25% of data is below this and 75% is below this\n",
    "iqr = q3 - q1                               # inter - quartile range\n",
    "lower_bound = q1 - (iqr * 1.5)              # tukey outlier lower limit which is the mean value - 1.5 * iqr\n",
    "upper_bound = q3 + (iqr * 1.5)              # tukey outlier upper limit which is the mean value + 1.5 * iqr\n",
    "#  print(mu, sigma, q1, q3, iqr, lower_bound, upper_bound)"
   ]
  },
  {
   "cell_type": "code",
   "execution_count": 4,
   "metadata": {},
   "outputs": [
    {
     "name": "stdout",
     "output_type": "stream",
     "text": [
      "mean height 66.761\n",
      "std height 3.583\n",
      "Quartile 1 64.00\n",
      "Quartile 3 69.70\n",
      "Inter Quartile Range 5.70\n",
      "Tukey Limit Boundaries Lower: 55.450 Upper: 78.250\n",
      "+/- 0 std: 66.761-66.761 num_records 0 percentage 0.000\n",
      "+/- 1 std: 63.178-70.344 num_records 560 percentage 0.624\n",
      "+/- 2 std: 59.595-73.927 num_records 876 percentage 0.976\n",
      "+/- 3 std: 56.012-77.509 num_records 895 percentage 0.997\n"
     ]
    },
    {
     "data": {
      "image/png": "[encoded data removed]",
      "text/plain": [
       "<Figure size 432x288 with 1 Axes>"
      ]
     },
     "metadata": {
      "needs_background": "light"
     },
     "output_type": "display_data"
    }
   ],
   "source": [
    "print('mean height %.3f' % mu)\n",
    "print('std height %.3f' % (sigma))\n",
    "print('Quartile 1 %.2f' % q1)\n",
    "print('Quartile 3 %.2f' % q3)\n",
    "print('Inter Quartile Range %.2f' % iqr)\n",
    "print('Tukey Limit Boundaries Lower: %.3f Upper: %.3f' % (lower_bound, upper_bound))\n",
    "x = np.linspace(mu - 4*sigma, mu + 4*sigma, 100)    # set up a 100 linear spaced values between +/-4 std's of mean\n",
    "n, bins, patches = plt.hist(df.height, 50, density=1, facecolor='green', alpha=0.75)\n",
    "plt.plot(x, stats.norm.pdf(x, mu, sigma))\n",
    "plt.plot([mu, mu], [0, stats.norm.pdf(mu, mu, sigma)], 'k')\n",
    "for i in range(0,4):\n",
    "    lower = mu - i*sigma\n",
    "    upper = mu + i*sigma\n",
    "    record_count = len(df[(df.height>=lower) & (df.height<=upper)])  # number of elements in the range\n",
    "    print('+/- %d std: %.3f-%.3f num_records %d percentage %.3f' % (i, lower, upper, record_count, record_count/num_records))\n",
    "    plt.plot([lower, upper], [stats.norm.pdf(lower, mu, sigma), stats.norm.pdf(upper, mu, sigma) ], 'k')\n",
    "    \n",
    "plt.grid(True)\n",
    "plt.show()"
   ]
  },
  {
   "cell_type": "code",
   "execution_count": 5,
   "metadata": {},
   "outputs": [
    {
     "name": "stdout",
     "output_type": "stream",
     "text": [
      "Avg height 66.761 inches: 0.111 0.889\n",
      "my height 74 inches: 0.01446\n",
      "Taller then 98.66370%\n"
     ]
    }
   ],
   "source": [
    "print('Avg height %.3f inches: %.3f %.3f' % (mu, stats.norm.pdf(mu, mu, sigma), 1-stats.norm.pdf(mu, mu, sigma)))\n",
    "print('my height 74 inches: %.5f' % (stats.norm.pdf(74, mu, sigma)))\n",
    "print('Taller then %.5f%%' % stats.percentileofscore(df.height, 74, kind='rank'))\n"
   ]
  },
  {
   "cell_type": "code",
   "execution_count": 6,
   "metadata": {},
   "outputs": [
    {
     "data": {
      "text/plain": [
       "count    465.000000\n",
       "mean      69.228817\n",
       "std        2.631594\n",
       "min       60.000000\n",
       "25%       67.500000\n",
       "50%       69.200000\n",
       "75%       71.000000\n",
       "max       79.000000\n",
       "Name: height, dtype: float64"
      ]
     },
     "execution_count": 6,
     "metadata": {},
     "output_type": "execute_result"
    }
   ],
   "source": [
    "# separate the 2 modes of the data\n",
    "df_m = df[df['sex']=='M']\n",
    "#df_m.info()\n",
    "df_m.describe()['height']"
   ]
  },
  {
   "cell_type": "code",
   "execution_count": 7,
   "metadata": {},
   "outputs": [
    {
     "data": {
      "text/plain": [
       "count    433.000000\n",
       "mean      64.110162\n",
       "std        2.370320\n",
       "min       56.000000\n",
       "25%       62.500000\n",
       "50%       64.000000\n",
       "75%       65.500000\n",
       "max       70.500000\n",
       "Name: height, dtype: float64"
      ]
     },
     "execution_count": 7,
     "metadata": {},
     "output_type": "execute_result"
    }
   ],
   "source": [
    "df_w = df[df['sex']=='F']\n",
    "df_w.describe()['height']"
   ]
  },
  {
   "cell_type": "code",
   "execution_count": 8,
   "metadata": {},
   "outputs": [],
   "source": [
    "def outliers_z_score(data):\n",
    "    threshold = 3\n",
    "    mean = np.mean(data)\n",
    "    std = np.std(data)\n",
    "    z_scores = [(y - mean) / std for y in data]\n",
    "    return np.where(np.abs(z_scores) > threshold)\n"
   ]
  },
  {
   "cell_type": "code",
   "execution_count": null,
   "metadata": {},
   "outputs": [],
   "source": []
  }
 ],
 "metadata": {
  "kernelspec": {
   "display_name": "Python 3",
   "language": "python",
   "name": "python3"
  },
  "language_info": {
   "codemirror_mode": {
    "name": "ipython",
    "version": 3
   },
   "file_extension": ".py",
   "mimetype": "text/x-python",
   "name": "python",
   "nbconvert_exporter": "python",
   "pygments_lexer": "ipython3",
   "version": "3.7.4"
  }
 },
 "nbformat": 4,
 "nbformat_minor": 2
}
