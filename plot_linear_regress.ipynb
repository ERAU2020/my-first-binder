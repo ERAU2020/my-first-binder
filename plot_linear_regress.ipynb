% matplotlib inline
import matplotlib.pyplot as plt

from sklearn.linear_model import LinearRegression
model=LinearRegression()

# from page 100, Python Machine Learning textbook
heights = [ [1.6],[1.65],[1.7], [1.73],[1.8] ]
weights = [ [60], [65],  [72.3],[75],  [80] ]

model.fit(X=heights, y=weights)

plt.title('Weights vs Heights')
plt.xlabel('Heights (meters) ')
plt.ylabel('Weight (kgs) ')
plt.plot(heights, weights, 'k.')
plt.axis([1.5,1.85,50,90])
plt.grid(True)

# In[ ]:


plt.title('Weights vs Heights')
plt.xlabel('Heights (meters) ')
plt.ylabel('Weight (kgs) ')
plt.plot(heights, weights, 'k.')
plt.axis([1.5,1.85,50,90])
plt.grid(True)
#plt.plot(heights, weights, 'b')
# plot regression line
plt.plot(heights, model.predict(heights), color='r')

# In[ ]:


print('Model Intercept', model.intercept_[0])
print('Model Slope', model.coef_[0][0])

