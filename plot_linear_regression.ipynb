{
 "cells": [
  {
   "cell_type": "code",
   "execution_count": null,
   "metadata": {},
   "outputs": [],
   "source": [
    "# This is a Jupyter Notebook - hold Shift Key Down and Hit Enter to Run this section of Code\n",
    "#  the [ ] to the left will switch from blank which means not run, to * for running, to an execution number when done\n",
    "#  do this for each cell below.  Shift Enter runs the current block and switches focus to next block (more later)\n",
    "\n",
    "# Jupyter Notebook is python code running in a web browser... very slick, powerful\n",
    "\n",
    "# purpose of this program is to demonstrate a number of topics in python\n",
    "#  while computing a simple linear regression example of peoples weights vs their heights\n",
    "\n",
    "#  Concepts\n",
    "#  1.  importing common library of functions - \n",
    "#         * numpy for mathematical arrays\n",
    "#         * matplotlib for plotting\n",
    "#         * sklearn for Model analysis, in this case Linear Regression\n",
    "#  2.  declare arrays of values and introduce plotting\n",
    "#  3.  compute linear regression coefficients via a package, print to screen\n",
    "\n",
    "#  HASHTAG # means this is a comment line, and not interpreted by python, but is for human readability\n",
    "\n",
    "#  Concept 1 - import libraries using below... \n",
    "\n",
    "import numpy as np                 # numpy is used for numeric array processing in python alias np\n",
    "%matplotlib inline\n",
    "import matplotlib.pyplot as plt    # matplotlib is a common plotting libray for python, others exist\n",
    "print(\"Two Libraries Loaded\\nNumPy and MatPlotLib -- see comments in block 1\\n\")\n",
    "print(\"Numpy functions and constants will be aliased/accessed with np.  i.e. np.pi is %.8f\" % np.pi)\n",
    "print(\"Note similarity to MatLab fprintf function, python uses the % operator both in the format string...\");\n",
    "print(\" and in the replacement string to signal the substitution.\")\n",
    "print(\"Note also multiple subsitutions require (), i.e. np.pi=%.3f & np.e = %.5f\" % (np.pi, np.e))\n",
    "print(\"print automatically adds \\\\n, add extra\\'s as you require, \\\\t is the tab, \\\\ is the slash, \\\" is the quote\")"
   ]
  },
  {
   "cell_type": "code",
   "execution_count": null,
   "metadata": {},
   "outputs": [],
   "source": [
    "from sklearn.linear_model import LinearRegression    # scikit-learn has hundreds of models, algorithms, very useful\n",
    "model=LinearRegression()           # create a model object of type LinearRegression, see PML Chapter 5 & 6\n",
    "print(\"This cell loads the LinearRegression class directly without need of prefixing/aliasing.\")\n",
    "print(\"Next we created an object of LinearRegression class called model; instantiation here just creates the object.\")\n",
    "print (\" model.fit() function used below will do the work of initializing the object with values\")\n"
   ]
  },
  {
   "cell_type": "code",
   "execution_count": null,
   "metadata": {},
   "outputs": [],
   "source": [
    "# create parallel arrays of corresponding values, the spacing is used to align the data points (not necessary)\n",
    "# utilize numpy arrays as they are very efficient for mathematical operations and have tons of functionality\n",
    "#    built into the numpy libray for operating on arrays/matricies of the numpy type (see PML Chapter 2)\n",
    "heights = np.array([1.6, 1.65,  1.7, 1.73, 1.8])\n",
    "weights = np.array([60,    65, 72.3, 75,    80])\n",
    "# right now we are hard coding the array of data values, later read from text file, or excel, or a URL, ..\n",
    "print(\"heights:  \", heights)\n",
    "print(\"weights:  \", weights[0:5])   # print specified elements of the array, upto but not including index 5"
   ]
  },
  {
   "cell_type": "code",
   "execution_count": null,
   "metadata": {},
   "outputs": [],
   "source": [
    "# using the matplotlib library, which we aliased as plt above, issue plot commands (see chapter 4 of PML for more)\n",
    "print(\"Now we are using the plotting library matplotlib aliased as plt, so all plot commands start with plt.\")\n",
    "plt.title('Weights vs Heights')\n",
    "plt.ylabel('Weight (kgs) ')\n",
    "plt.xlabel('Height (meters) ')\n",
    "plt.plot(heights, weights, 'k.')# plot, x,y with points as black .'s (note the k is for black, blue is b, red is r)\n",
    "plt.axis([1.5,1.85,50,90])      # limit the domain of the x axis and range of y axis\n",
    "plt.grid(True)                  # python supports Boolean values - True and False, pass in True to flip grid on"
   ]
  },
  {
   "cell_type": "code",
   "execution_count": null,
   "metadata": {},
   "outputs": [],
   "source": [
    "# fit the model and generated same plot with data points and Regression line\n",
    "# ok, first head scratcher, we can't just pass in those numpy arrays in the form they were declared\n",
    "# intuitively we want to run this line of code now -> model.fit(X=heights, y=weights)\n",
    "# however, in the sklearn documentation, its expecting a 2 dimensional array, and the arrays we declared above are\n",
    "# one dimensional, right now heights is a linear array with 5 elments, we want to make it matrix with 5 rows \n",
    "# and one column.  Numpy provides a function reshape that can reshape the numpy array\n",
    "\n",
    "# Before proceeding, just appreciate that each imported library writes code independently\n",
    "# we have to play by their rules to use their interfaces and programs.\n",
    "\n",
    "heights = heights.reshape(-1, 1)  # comment this line of code out and re-run (shift enter), note the error...\n",
    "                                 # ...saying not in the right format, to use reshape() -- scroll to end of errors \n",
    "                                 # redo this in Spyder and look at the profiler, and understand multiple syntaxes\n",
    "weights = weights.reshape(-1, 1)\n",
    "# ok heights and weights are in the proper form, we can now fit our Linear Regression Model\n",
    "# calling fit basically executes the model, and then we'll have our regression coefficients\n",
    "model.fit(X=heights, y=weights)\n",
    "# display mx + b parameters from the LinearRegression model\n",
    "print('Model Intercept', model.intercept_)   \n",
    "print('Model Slope', model.coef_)\n",
    "print('Display in slope-intercept form (y = mx + b):  y = %.3f*x + %.3f\\n' % (model.coef_, model.intercept_))\n",
    "x_mean = heights.mean()           # use the numpy method mean, to compute the average value of the heights array\n",
    "x_mean = x_mean.reshape(-1,1)   # same as above, expecting multi-dimensional array, reshaping see PML Chap2 pg 26\n",
    "y_mean = model.predict(x_mean)\n",
    "print('Mean Value Location (%.3f, %.3f)' % (x_mean, y_mean))   # formatted print substitution \n"
   ]
  },
  {
   "cell_type": "code",
   "execution_count": null,
   "metadata": {},
   "outputs": [],
   "source": [
    "plt.title('Weights vs Heights')\n",
    "plt.ylabel('Weight (kgs) ')\n",
    "plt.xlabel('Height (meters) ')\n",
    "plt.plot(heights, weights, 'k.')\n",
    "\n",
    "# plot regression line over the domain of the heights, this could be extended easily\n",
    "plt.plot(heights, model.predict(heights), color='r')\n",
    "\n",
    "# plt.plot(heights, weights, 'b')    # uncomment this and re-run this cell for new plot\n",
    "plt.axis([1.5,1.85,50,90])   # specify range of x values and y values on the plot area\n",
    "plt.grid(True)"
   ]
  },
  {
   "cell_type": "code",
   "execution_count": null,
   "metadata": {},
   "outputs": [],
   "source": [
    "# next create a new array of heights to run the model on\n",
    "# generate a data table and print to the screen predicted weights for the heights\n",
    "# plot the predictions\n",
    "# are you above, on, or below the line\n",
    "# what is RMSE ?\n",
    "# we can modify code to read data from a text file we'll do that real soon!\n"
   ]
  }
 ],
 "metadata": {
  "kernelspec": {
   "display_name": "Python 3",
   "language": "python",
   "name": "python3"
  },
  "language_info": {
   "codemirror_mode": {
    "name": "ipython",
    "version": 3
   },
   "file_extension": ".py",
   "mimetype": "text/x-python",
   "name": "python",
   "nbconvert_exporter": "python",
   "pygments_lexer": "ipython3",
   "version": "3.7.8"
  }
 },
 "nbformat": 4,
 "nbformat_minor": 4
}
