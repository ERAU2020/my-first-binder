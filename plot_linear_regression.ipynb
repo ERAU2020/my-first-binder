{
 "cells": [
  {
   "cell_type": "code",
   "execution_count": null,
   "metadata": {},
   "outputs": [],
   "source": [
    "# This is a Jupyter Notebook - hold Shift Key Down and Hit Enter to Run this section of Code\n",
    "# Jupyter Notebook is python code running in a web browser... very slick, powerful\n",
    "\n",
    "# purpose of this program is to demonstrate a number of topics in python\n",
    "#  while computing a simple linear regression example of peoples weights vs their heights\n",
    "\n",
    "#  Concepts\n",
    "#  1.  importing common library of functions - \n",
    "#         * numpy for mathematical arrays\n",
    "#         * matplotlib for plotting\n",
    "#         * sklearn for Model analysis, in this case Linear Regression\n",
    "#  2.  declare arrays of values and introduce plotting\n",
    "#  3.  compute linear regression coefficients via a package, print to screen\n",
    "\n",
    "#  HASHTAG # means this is a comment line, and not interpreted by python, but is for human readability\n",
    "\n",
    "#  Concept 1 - import libraries using below... \n",
    "\n",
    "import numpy as np                 # numpy is used for numeric array processing in python alias np\n",
    "%matplotlib inline\n",
    "import matplotlib.pyplot as plt    # matplotlib is a common plotting libray for python, others exist"
   ]
  },
  {
   "cell_type": "code",
   "execution_count": null,
   "metadata": {},
   "outputs": [],
   "source": [
    "from sklearn.linear_model import LinearRegression    # scikit-learn has hundreds of models, algorithms, very useful\n",
    "model=LinearRegression()           # create a model object of type LinearRegression, see PML Chapter 5 & 6\n"
   ]
  },
  {
   "cell_type": "code",
   "execution_count": null,
   "metadata": {},
   "outputs": [],
   "source": [
    "# create parallel arrays of corresponding values, the spacing is used to align the data points (not necessary)\n",
    "# utilize numpy arrays as they are very efficient for mathematical operations and have tons of functionality\n",
    "#    built into the numpy libray for operating on arrays/matricies of the numpy type (see PML Chapter 2)\n",
    "heights = np.array([1.6, 1.65,  1.7, 1.73, 1.8])\n",
    "weights = np.array([60,    65, 72.3, 75,    80])\n",
    "# right now we are hard coding the array of data values, later read from text file, or excel, or a URL, .."
   ]
  },
  {
   "cell_type": "code",
   "execution_count": null,
   "metadata": {},
   "outputs": [],
   "source": [
    "# using the matplotlib library, which we aliased as plt above, issue plot commands (see chapter 4 of PML for more)\n",
    "plt.title('Weights vs Heights')\n",
    "plt.xlabel('Heights (meters) ')\n",
    "plt.ylabel('Weight (kgs) ')\n",
    "plt.plot(heights, weights, 'k.')   # plot points as black .'s (note the k is for black, blue is b, red is r)\n",
    "plt.axis([1.5,1.85,50,90])          # limit the domain of the x axis and range of y axis\n",
    "plt.grid(True)                      # python supports Boolean values - True and False, pass in True to flip grid on"
   ]
  },
  {
   "cell_type": "code",
   "execution_count": null,
   "metadata": {},
   "outputs": [],
   "source": [
    "# fit the model and generated same plot with data points and Regression line\n",
    "# ok, first head scratcher, we can't just pass in those numpy arrays in the form they were declared\n",
    "# intuitively we want to run this line of code now -> model.fit(X=heights, y=weights)\n",
    "# however, in the sklearn documentation, its expecting a 2 dimensional array, and the arrays we declared above are\n",
    "# one dimensional, right now heights is a linear array with 5 elments, we want to make it matrix with 5 rows \n",
    "# and one column.  Numpy provides a function reshape that can reshape the numpy array\n",
    "\n",
    "# Before proceeding, just appreciate that each imported library writes code independently\n",
    "# we have to play by their rules to use their interfaces and programs.\n",
    "\n",
    "heights = heights.reshape(-1, 1)  # comment this line of code out and re-run, note the error\n",
    "                                 # saying not in the right format, reshape() -- scroll to end of errors \n",
    "                                 # redo this in Spyder and look at the profiler, and understand multiple syntaxes\n",
    "weights = weights.reshape(-1, 1)\n",
    "# ok heights and weights are in the proper form, we can now fit our Linear Regression Model\n",
    "# calling fit basically executes the model, and then we'll have our regression coefficients\n",
    "model.fit(X=heights, y=weights)\n",
    "# display mx + b parameters from the LinearRegression model\n",
    "print('Model Intercept', model.intercept_[0])\n",
    "print('Model Slope', model.coef_[0][0])\n"
   ]
  },
  {
   "cell_type": "code",
   "execution_count": null,
   "metadata": {},
   "outputs": [],
   "source": [
    "plt.title('Weights vs Heights')\n",
    "plt.xlabel('Heights (meters) ')\n",
    "plt.ylabel('Weight (kgs) ')\n",
    "plt.plot(heights, weights, 'k.')\n",
    "plt.axis([1.5,1.85,50,90])\n",
    "plt.grid(True)\n",
    "# plt.plot(heights, weights, 'b')\n",
    "# plot regression line\n",
    "plt.plot(heights, model.predict(heights), color='r')\n",
    "# axis range for x and y v"
   ]
  },
  {
   "cell_type": "code",
   "execution_count": null,
   "metadata": {},
   "outputs": [],
   "source": []
  }
 ],
 "metadata": {
  "kernelspec": {
   "display_name": "Python 3",
   "language": "python",
   "name": "python3"
  },
  "language_info": {
   "codemirror_mode": {
    "name": "ipython",
    "version": 3
   },
   "file_extension": ".py",
   "mimetype": "text/x-python",
   "name": "python",
   "nbconvert_exporter": "python",
   "pygments_lexer": "ipython3",
   "version": "3.7.8"
  }
 },
 "nbformat": 4,
 "nbformat_minor": 4
}
